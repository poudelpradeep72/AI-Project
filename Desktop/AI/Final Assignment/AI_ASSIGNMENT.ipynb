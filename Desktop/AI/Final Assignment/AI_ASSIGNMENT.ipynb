{
 "cells": [
  {
   "cell_type": "code",
   "execution_count": 3,
   "id": "c21bdebb-7428-4194-8862-45aac93d3906",
   "metadata": {},
   "outputs": [],
   "source": [
    "# 1. Import necessary libraries\n",
    "import pandas as pd\n",
    "import numpy as np\n",
    "import matplotlib.pyplot as plt\n",
    "import seaborn as sns\n",
    "\n",
    "from sklearn.model_selection import train_test_split\n",
    "from sklearn.preprocessing import LabelEncoder, OneHotEncoder, StandardScaler, MinMaxScaler\n",
    "from scipy import stats\n",
    "\n",
    "# For Logistic Regression good for Interpretability\n",
    "import pandas as pd\n",
    "from sklearn.preprocessing import StandardScaler, LabelEncoder\n",
    "from sklearn.linear_model import LogisticRegression\n",
    "from sklearn.metrics import classification_report, confusion_matrix, accuracy_score, roc_auc_score"
   ]
  },
  {
   "cell_type": "code",
   "execution_count": 7,
   "id": "407666ad-8245-4fb8-bcf0-eabba1cc2445",
   "metadata": {},
   "outputs": [],
   "source": [
    "# 2. Load the dataset\n",
    "df = pd.read_csv(r'C:\\Users\\HP\\Desktop\\AI\\Final Assignment\\heart_attack_prediction_india.csv')"
   ]
  },
  {
   "cell_type": "code",
   "execution_count": 9,
   "id": "29345277-7a20-4bbd-87f7-58656e0b3892",
   "metadata": {},
   "outputs": [
    {
     "name": "stdout",
     "output_type": "stream",
     "text": [
      "Dataset shape: (10000, 26)\n",
      "First 5 rows:\n"
     ]
    },
    {
     "data": {
      "text/html": [
       "<div>\n",
       "<style scoped>\n",
       "    .dataframe tbody tr th:only-of-type {\n",
       "        vertical-align: middle;\n",
       "    }\n",
       "\n",
       "    .dataframe tbody tr th {\n",
       "        vertical-align: top;\n",
       "    }\n",
       "\n",
       "    .dataframe thead th {\n",
       "        text-align: right;\n",
       "    }\n",
       "</style>\n",
       "<table border=\"1\" class=\"dataframe\">\n",
       "  <thead>\n",
       "    <tr style=\"text-align: right;\">\n",
       "      <th></th>\n",
       "      <th>Patient_ID</th>\n",
       "      <th>State_Name</th>\n",
       "      <th>Age</th>\n",
       "      <th>Gender</th>\n",
       "      <th>Diabetes</th>\n",
       "      <th>Hypertension</th>\n",
       "      <th>Obesity</th>\n",
       "      <th>Smoking</th>\n",
       "      <th>Alcohol_Consumption</th>\n",
       "      <th>Physical_Activity</th>\n",
       "      <th>...</th>\n",
       "      <th>Diastolic_BP</th>\n",
       "      <th>Air_Pollution_Exposure</th>\n",
       "      <th>Family_History</th>\n",
       "      <th>Stress_Level</th>\n",
       "      <th>Healthcare_Access</th>\n",
       "      <th>Heart_Attack_History</th>\n",
       "      <th>Emergency_Response_Time</th>\n",
       "      <th>Annual_Income</th>\n",
       "      <th>Health_Insurance</th>\n",
       "      <th>Heart_Attack_Risk</th>\n",
       "    </tr>\n",
       "  </thead>\n",
       "  <tbody>\n",
       "    <tr>\n",
       "      <th>0</th>\n",
       "      <td>1</td>\n",
       "      <td>Rajasthan</td>\n",
       "      <td>42</td>\n",
       "      <td>Female</td>\n",
       "      <td>0</td>\n",
       "      <td>0</td>\n",
       "      <td>1</td>\n",
       "      <td>1</td>\n",
       "      <td>0</td>\n",
       "      <td>0</td>\n",
       "      <td>...</td>\n",
       "      <td>119</td>\n",
       "      <td>1</td>\n",
       "      <td>0</td>\n",
       "      <td>4</td>\n",
       "      <td>0</td>\n",
       "      <td>0</td>\n",
       "      <td>157</td>\n",
       "      <td>611025</td>\n",
       "      <td>0</td>\n",
       "      <td>0</td>\n",
       "    </tr>\n",
       "    <tr>\n",
       "      <th>1</th>\n",
       "      <td>2</td>\n",
       "      <td>Himachal Pradesh</td>\n",
       "      <td>26</td>\n",
       "      <td>Male</td>\n",
       "      <td>0</td>\n",
       "      <td>0</td>\n",
       "      <td>0</td>\n",
       "      <td>0</td>\n",
       "      <td>1</td>\n",
       "      <td>1</td>\n",
       "      <td>...</td>\n",
       "      <td>115</td>\n",
       "      <td>0</td>\n",
       "      <td>0</td>\n",
       "      <td>7</td>\n",
       "      <td>0</td>\n",
       "      <td>0</td>\n",
       "      <td>331</td>\n",
       "      <td>174527</td>\n",
       "      <td>0</td>\n",
       "      <td>0</td>\n",
       "    </tr>\n",
       "    <tr>\n",
       "      <th>2</th>\n",
       "      <td>3</td>\n",
       "      <td>Assam</td>\n",
       "      <td>78</td>\n",
       "      <td>Male</td>\n",
       "      <td>0</td>\n",
       "      <td>0</td>\n",
       "      <td>1</td>\n",
       "      <td>0</td>\n",
       "      <td>0</td>\n",
       "      <td>1</td>\n",
       "      <td>...</td>\n",
       "      <td>117</td>\n",
       "      <td>0</td>\n",
       "      <td>1</td>\n",
       "      <td>10</td>\n",
       "      <td>1</td>\n",
       "      <td>0</td>\n",
       "      <td>186</td>\n",
       "      <td>1760112</td>\n",
       "      <td>1</td>\n",
       "      <td>0</td>\n",
       "    </tr>\n",
       "    <tr>\n",
       "      <th>3</th>\n",
       "      <td>4</td>\n",
       "      <td>Odisha</td>\n",
       "      <td>58</td>\n",
       "      <td>Male</td>\n",
       "      <td>1</td>\n",
       "      <td>0</td>\n",
       "      <td>1</td>\n",
       "      <td>0</td>\n",
       "      <td>0</td>\n",
       "      <td>1</td>\n",
       "      <td>...</td>\n",
       "      <td>65</td>\n",
       "      <td>0</td>\n",
       "      <td>0</td>\n",
       "      <td>1</td>\n",
       "      <td>1</td>\n",
       "      <td>1</td>\n",
       "      <td>324</td>\n",
       "      <td>1398213</td>\n",
       "      <td>0</td>\n",
       "      <td>0</td>\n",
       "    </tr>\n",
       "    <tr>\n",
       "      <th>4</th>\n",
       "      <td>5</td>\n",
       "      <td>Karnataka</td>\n",
       "      <td>22</td>\n",
       "      <td>Male</td>\n",
       "      <td>0</td>\n",
       "      <td>0</td>\n",
       "      <td>0</td>\n",
       "      <td>0</td>\n",
       "      <td>0</td>\n",
       "      <td>1</td>\n",
       "      <td>...</td>\n",
       "      <td>109</td>\n",
       "      <td>0</td>\n",
       "      <td>0</td>\n",
       "      <td>9</td>\n",
       "      <td>0</td>\n",
       "      <td>0</td>\n",
       "      <td>209</td>\n",
       "      <td>97987</td>\n",
       "      <td>0</td>\n",
       "      <td>1</td>\n",
       "    </tr>\n",
       "  </tbody>\n",
       "</table>\n",
       "<p>5 rows × 26 columns</p>\n",
       "</div>"
      ],
      "text/plain": [
       "   Patient_ID        State_Name  Age  Gender  Diabetes  Hypertension  Obesity  \\\n",
       "0           1         Rajasthan   42  Female         0             0        1   \n",
       "1           2  Himachal Pradesh   26    Male         0             0        0   \n",
       "2           3             Assam   78    Male         0             0        1   \n",
       "3           4            Odisha   58    Male         1             0        1   \n",
       "4           5         Karnataka   22    Male         0             0        0   \n",
       "\n",
       "   Smoking  Alcohol_Consumption  Physical_Activity  ...  Diastolic_BP  \\\n",
       "0        1                    0                  0  ...           119   \n",
       "1        0                    1                  1  ...           115   \n",
       "2        0                    0                  1  ...           117   \n",
       "3        0                    0                  1  ...            65   \n",
       "4        0                    0                  1  ...           109   \n",
       "\n",
       "   Air_Pollution_Exposure  Family_History  Stress_Level  Healthcare_Access  \\\n",
       "0                       1               0             4                  0   \n",
       "1                       0               0             7                  0   \n",
       "2                       0               1            10                  1   \n",
       "3                       0               0             1                  1   \n",
       "4                       0               0             9                  0   \n",
       "\n",
       "   Heart_Attack_History  Emergency_Response_Time  Annual_Income  \\\n",
       "0                     0                      157         611025   \n",
       "1                     0                      331         174527   \n",
       "2                     0                      186        1760112   \n",
       "3                     1                      324        1398213   \n",
       "4                     0                      209          97987   \n",
       "\n",
       "   Health_Insurance  Heart_Attack_Risk  \n",
       "0                 0                  0  \n",
       "1                 0                  0  \n",
       "2                 1                  0  \n",
       "3                 0                  0  \n",
       "4                 0                  1  \n",
       "\n",
       "[5 rows x 26 columns]"
      ]
     },
     "metadata": {},
     "output_type": "display_data"
    },
    {
     "name": "stdout",
     "output_type": "stream",
     "text": [
      "Missing values per column:\n"
     ]
    },
    {
     "data": {
      "text/plain": [
       "Patient_ID                 0\n",
       "State_Name                 0\n",
       "Age                        0\n",
       "Gender                     0\n",
       "Diabetes                   0\n",
       "Hypertension               0\n",
       "Obesity                    0\n",
       "Smoking                    0\n",
       "Alcohol_Consumption        0\n",
       "Physical_Activity          0\n",
       "Diet_Score                 0\n",
       "Cholesterol_Level          0\n",
       "Triglyceride_Level         0\n",
       "LDL_Level                  0\n",
       "HDL_Level                  0\n",
       "Systolic_BP                0\n",
       "Diastolic_BP               0\n",
       "Air_Pollution_Exposure     0\n",
       "Family_History             0\n",
       "Stress_Level               0\n",
       "Healthcare_Access          0\n",
       "Heart_Attack_History       0\n",
       "Emergency_Response_Time    0\n",
       "Annual_Income              0\n",
       "Health_Insurance           0\n",
       "Heart_Attack_Risk          0\n",
       "dtype: int64"
      ]
     },
     "metadata": {},
     "output_type": "display_data"
    }
   ],
   "source": [
    "# 3. Basic data overview\n",
    "print(\"Dataset shape:\", df.shape)\n",
    "print(\"First 5 rows:\")\n",
    "display(df.head())\n",
    "print(\"Missing values per column:\")\n",
    "display(df.isnull().sum())"
   ]
  },
  {
   "cell_type": "code",
   "execution_count": 52,
   "id": "a2f100cc-b3b2-45ee-89d1-998999c9bdb4",
   "metadata": {},
   "outputs": [
    {
     "name": "stdout",
     "output_type": "stream",
     "text": [
      "   Patient_ID       Age  Gender  Diabetes  Hypertension   Obesity   Smoking  \\\n",
      "0   -1.731878 -0.427960       0 -0.320022     -0.572577  1.514174  1.522449   \n",
      "1   -1.731531 -1.353916       1 -0.320022     -0.572577 -0.660426 -0.656837   \n",
      "2   -1.731185  1.655442       1 -0.320022     -0.572577  1.514174 -0.656837   \n",
      "4   -1.730492 -1.585405       1 -0.320022     -0.572577 -0.660426 -0.656837   \n",
      "5   -1.730146 -1.064554       1 -0.320022     -0.572577 -0.660426 -0.656837   \n",
      "\n",
      "   Alcohol_Consumption  Physical_Activity  Diet_Score  ...  State_Name_Odisha  \\\n",
      "0            -0.738321          -1.214093    1.260457  ...              False   \n",
      "1             1.354425           0.823660   -0.323708  ...              False   \n",
      "2            -0.738321           0.823660    0.309958  ...              False   \n",
      "4            -0.738321           0.823660   -0.006875  ...              False   \n",
      "5            -0.738321          -1.214093    0.626791  ...              False   \n",
      "\n",
      "   State_Name_Punjab  State_Name_Rajasthan  State_Name_Sikkim  \\\n",
      "0              False                  True              False   \n",
      "1              False                 False              False   \n",
      "2              False                 False              False   \n",
      "4              False                 False              False   \n",
      "5              False                 False              False   \n",
      "\n",
      "   State_Name_Tamil Nadu  State_Name_Telangana  State_Name_Tripura  \\\n",
      "0                  False                 False               False   \n",
      "1                  False                 False               False   \n",
      "2                  False                 False               False   \n",
      "4                  False                 False               False   \n",
      "5                  False                 False                True   \n",
      "\n",
      "   State_Name_Uttar Pradesh  State_Name_Uttarakhand  State_Name_West Bengal  \n",
      "0                     False                   False                   False  \n",
      "1                     False                   False                   False  \n",
      "2                     False                   False                   False  \n",
      "4                     False                   False                   False  \n",
      "5                     False                   False                   False  \n",
      "\n",
      "[5 rows x 52 columns]\n",
      "<class 'pandas.core.frame.DataFrame'>\n",
      "Index: 9071 entries, 0 to 9999\n",
      "Data columns (total 52 columns):\n",
      " #   Column                        Non-Null Count  Dtype  \n",
      "---  ------                        --------------  -----  \n",
      " 0   Patient_ID                    9071 non-null   float64\n",
      " 1   Age                           9071 non-null   float64\n",
      " 2   Gender                        9071 non-null   int32  \n",
      " 3   Diabetes                      9071 non-null   float64\n",
      " 4   Hypertension                  9071 non-null   float64\n",
      " 5   Obesity                       9071 non-null   float64\n",
      " 6   Smoking                       9071 non-null   float64\n",
      " 7   Alcohol_Consumption           9071 non-null   float64\n",
      " 8   Physical_Activity             9071 non-null   float64\n",
      " 9   Diet_Score                    9071 non-null   float64\n",
      " 10  Cholesterol_Level             9071 non-null   float64\n",
      " 11  Triglyceride_Level            9071 non-null   float64\n",
      " 12  LDL_Level                     9071 non-null   float64\n",
      " 13  HDL_Level                     9071 non-null   float64\n",
      " 14  Systolic_BP                   9071 non-null   float64\n",
      " 15  Diastolic_BP                  9071 non-null   float64\n",
      " 16  Air_Pollution_Exposure        9071 non-null   float64\n",
      " 17  Family_History                9071 non-null   float64\n",
      " 18  Stress_Level                  9071 non-null   float64\n",
      " 19  Healthcare_Access             9071 non-null   float64\n",
      " 20  Heart_Attack_History          9071 non-null   float64\n",
      " 21  Emergency_Response_Time       9071 non-null   float64\n",
      " 22  Annual_Income                 9071 non-null   float64\n",
      " 23  Health_Insurance              9071 non-null   float64\n",
      " 24  Heart_Attack_Risk             9071 non-null   float64\n",
      " 25  State_Name_Arunachal Pradesh  9071 non-null   bool   \n",
      " 26  State_Name_Assam              9071 non-null   bool   \n",
      " 27  State_Name_Bihar              9071 non-null   bool   \n",
      " 28  State_Name_Chhattisgarh       9071 non-null   bool   \n",
      " 29  State_Name_Goa                9071 non-null   bool   \n",
      " 30  State_Name_Gujarat            9071 non-null   bool   \n",
      " 31  State_Name_Haryana            9071 non-null   bool   \n",
      " 32  State_Name_Himachal Pradesh   9071 non-null   bool   \n",
      " 33  State_Name_Jharkhand          9071 non-null   bool   \n",
      " 34  State_Name_Karnataka          9071 non-null   bool   \n",
      " 35  State_Name_Kerala             9071 non-null   bool   \n",
      " 36  State_Name_Madhya Pradesh     9071 non-null   bool   \n",
      " 37  State_Name_Maharashtra        9071 non-null   bool   \n",
      " 38  State_Name_Manipur            9071 non-null   bool   \n",
      " 39  State_Name_Meghalaya          9071 non-null   bool   \n",
      " 40  State_Name_Mizoram            9071 non-null   bool   \n",
      " 41  State_Name_Nagaland           9071 non-null   bool   \n",
      " 42  State_Name_Odisha             9071 non-null   bool   \n",
      " 43  State_Name_Punjab             9071 non-null   bool   \n",
      " 44  State_Name_Rajasthan          9071 non-null   bool   \n",
      " 45  State_Name_Sikkim             9071 non-null   bool   \n",
      " 46  State_Name_Tamil Nadu         9071 non-null   bool   \n",
      " 47  State_Name_Telangana          9071 non-null   bool   \n",
      " 48  State_Name_Tripura            9071 non-null   bool   \n",
      " 49  State_Name_Uttar Pradesh      9071 non-null   bool   \n",
      " 50  State_Name_Uttarakhand        9071 non-null   bool   \n",
      " 51  State_Name_West Bengal        9071 non-null   bool   \n",
      "dtypes: bool(27), float64(24), int32(1)\n",
      "memory usage: 2.0 MB\n",
      "None\n"
     ]
    }
   ],
   "source": [
    "# Step 3: Initial Exploration\n",
    "print(df.head())\n",
    "print(df.info())"
   ]
  },
  {
   "cell_type": "code",
   "execution_count": 13,
   "id": "07c53196-2d50-4731-8aab-34647bc432d9",
   "metadata": {},
   "outputs": [],
   "source": [
    "# # 4. Handle missing values\n",
    "# # Fill numerical columns with mean\n",
    "# num_cols = df.select_dtypes(include=['float64', 'int64']).columns\n",
    "# # for col in num_cols:# Handle missing values\n",
    "num_cols = df.select_dtypes(include=['number']).columns\n",
    "cat_cols = df.select_dtypes(include=['object']).columns\n",
    "\n",
    "# Fill numerical columns with mean\n",
    "df[num_cols] = df[num_cols].apply(lambda col: col.fillna(col.mean()))\n",
    "\n",
    "\n",
    "# #     df[col].fillna(df[col].mean(), inplace=True)\n",
    "# for col in num_cols:\n",
    "#     df[col].fillna(df[col].mean(), inplace=True)"
   ]
  },
  {
   "cell_type": "code",
   "execution_count": 15,
   "id": "f6de29ea-3005-45a5-ae6b-02da539411cf",
   "metadata": {},
   "outputs": [],
   "source": [
    "# 5. Encode categorical variables\n",
    "# Label Encoding for binary categories, One-Hot for others\n",
    "label_enc = LabelEncoder()\n",
    "for col in cat_cols:\n",
    "    if df[col].nunique() == 2:\n",
    "        df[col] = label_enc.fit_transform(df[col])\n",
    "    else:\n",
    "        df = pd.get_dummies(df, columns=[col], drop_first=True)"
   ]
  },
  {
   "cell_type": "code",
   "execution_count": 17,
   "id": "d867ea37-a936-4712-982f-2db81c0f2694",
   "metadata": {},
   "outputs": [],
   "source": [
    "# 6. Normalize/Standardize numerical features\n",
    "scaler = StandardScaler()\n",
    "df[num_cols] = scaler.fit_transform(df[num_cols])"
   ]
  },
  {
   "cell_type": "code",
   "execution_count": 21,
   "id": "b222f46b-3fea-4492-8fd8-a7a009639dab",
   "metadata": {},
   "outputs": [
    {
     "name": "stdout",
     "output_type": "stream",
     "text": [
      "Dataset shape after outlier removal: (9071, 52)\n"
     ]
    }
   ],
   "source": [
    "# 7. Detect and remove outliers (Z-score method)\n",
    "z_scores = np.abs(stats.zscore(df[num_cols]))\n",
    "df = df[(z_scores < 3).all(axis=1)]\n",
    "\n",
    "print(\"Dataset shape after outlier removal:\", df.shape)"
   ]
  },
  {
   "cell_type": "code",
   "execution_count": null,
   "id": "1db11b52-440f-452e-b4f1-ca528b9d1f0d",
   "metadata": {},
   "outputs": [],
   "source": [
    "# Import necessary libraries for EDA\n",
    "import seaborn as sns\n",
    "import matplotlib.pyplot as plt\n",
    "\n",
    "# Set the style for the plots\n",
    "sns.set(style=\"whitegrid\")"
   ]
  },
  {
   "cell_type": "code",
   "execution_count": 7,
   "id": "3bd2aa83-a45c-462d-a1e4-d688ca601223",
   "metadata": {},
   "outputs": [
    {
     "ename": "SyntaxError",
     "evalue": "invalid syntax (4002986282.py, line 2)",
     "output_type": "error",
     "traceback": [
      "\u001b[1;36m  Cell \u001b[1;32mIn[7], line 2\u001b[1;36m\u001b[0m\n\u001b[1;33m    Analyze feature distributions\u001b[0m\n\u001b[1;37m            ^\u001b[0m\n\u001b[1;31mSyntaxError\u001b[0m\u001b[1;31m:\u001b[0m invalid syntax\n"
     ]
    }
   ],
   "source": [
    "# 2. Exploratory Data Analysis (EDA)\n",
    "Analyze feature distributions\n",
    "Histograms for numerical features\n",
    "numerical_cols = data.select_dtypes(include=['int64', 'float64']).columns\n",
    "\n",
    "plt.figure(figsize=(15, 10))\n",
    "for i, col in enumerate(numerical_cols):\n",
    "    plt.subplot(3, 3, i + 1)  # Adjust the number of rows and columns as needed\n",
    "    sns.histplot(data[col], bins=30, kde=True)\n",
    "    plt.title(f'Distribution of {col}')\n",
    "plt.tight_layout()\n",
    "plt.show()"
   ]
  },
  {
   "cell_type": "code",
   "execution_count": 9,
   "id": "2873e15f-7c63-48c2-bc15-5cec341f9776",
   "metadata": {},
   "outputs": [
    {
     "ename": "NameError",
     "evalue": "name 'numerical_cols' is not defined",
     "output_type": "error",
     "traceback": [
      "\u001b[1;31m---------------------------------------------------------------------------\u001b[0m",
      "\u001b[1;31mNameError\u001b[0m                                 Traceback (most recent call last)",
      "Cell \u001b[1;32mIn[9], line 3\u001b[0m\n\u001b[0;32m      1\u001b[0m \u001b[38;5;66;03m# Boxplots for numerical features\u001b[39;00m\n\u001b[0;32m      2\u001b[0m plt\u001b[38;5;241m.\u001b[39mfigure(figsize\u001b[38;5;241m=\u001b[39m(\u001b[38;5;241m15\u001b[39m, \u001b[38;5;241m10\u001b[39m))\n\u001b[1;32m----> 3\u001b[0m \u001b[38;5;28;01mfor\u001b[39;00m i, col \u001b[38;5;129;01min\u001b[39;00m \u001b[38;5;28menumerate\u001b[39m(numerical_cols):\n\u001b[0;32m      4\u001b[0m     plt\u001b[38;5;241m.\u001b[39msubplot(\u001b[38;5;241m3\u001b[39m, \u001b[38;5;241m3\u001b[39m, i \u001b[38;5;241m+\u001b[39m \u001b[38;5;241m1\u001b[39m)\n\u001b[0;32m      5\u001b[0m     sns\u001b[38;5;241m.\u001b[39mboxplot(x\u001b[38;5;241m=\u001b[39mdata[col])\n",
      "\u001b[1;31mNameError\u001b[0m: name 'numerical_cols' is not defined"
     ]
    },
    {
     "data": {
      "text/plain": [
       "<Figure size 1500x1000 with 0 Axes>"
      ]
     },
     "metadata": {},
     "output_type": "display_data"
    }
   ],
   "source": [
    "# Boxplots for numerical features\n",
    "plt.figure(figsize=(15, 10))\n",
    "for i, col in enumerate(numerical_cols):\n",
    "    plt.subplot(3, 3, i + 1)\n",
    "    sns.boxplot(x=data[col])\n",
    "    plt.title(f'Boxplot of {col}')\n",
    "plt.tight_layout()\n",
    "plt.show()"
   ]
  },
  {
   "cell_type": "code",
   "execution_count": 11,
   "id": "0285335e-2e57-4f58-80ba-8bf1c4c0666d",
   "metadata": {},
   "outputs": [
    {
     "ename": "NameError",
     "evalue": "name 'data' is not defined",
     "output_type": "error",
     "traceback": [
      "\u001b[1;31m---------------------------------------------------------------------------\u001b[0m",
      "\u001b[1;31mNameError\u001b[0m                                 Traceback (most recent call last)",
      "Cell \u001b[1;32mIn[11], line 2\u001b[0m\n\u001b[0;32m      1\u001b[0m \u001b[38;5;66;03m# Identify correlations\u001b[39;00m\n\u001b[1;32m----> 2\u001b[0m correlation_matrix \u001b[38;5;241m=\u001b[39m data\u001b[38;5;241m.\u001b[39mcorr()\n",
      "\u001b[1;31mNameError\u001b[0m: name 'data' is not defined"
     ]
    }
   ],
   "source": [
    "# Identify correlations\n",
    "correlation_matrix = data.corr()"
   ]
  },
  {
   "cell_type": "code",
   "execution_count": 13,
   "id": "df592ab9-4889-41d4-b214-cbc8f1721425",
   "metadata": {},
   "outputs": [
    {
     "ename": "NameError",
     "evalue": "name 'correlation_matrix' is not defined",
     "output_type": "error",
     "traceback": [
      "\u001b[1;31m---------------------------------------------------------------------------\u001b[0m",
      "\u001b[1;31mNameError\u001b[0m                                 Traceback (most recent call last)",
      "Cell \u001b[1;32mIn[13], line 3\u001b[0m\n\u001b[0;32m      1\u001b[0m \u001b[38;5;66;03m# Correlation matrix heatmap\u001b[39;00m\n\u001b[0;32m      2\u001b[0m plt\u001b[38;5;241m.\u001b[39mfigure(figsize\u001b[38;5;241m=\u001b[39m(\u001b[38;5;241m12\u001b[39m, \u001b[38;5;241m8\u001b[39m))\n\u001b[1;32m----> 3\u001b[0m sns\u001b[38;5;241m.\u001b[39mheatmap(correlation_matrix, annot\u001b[38;5;241m=\u001b[39m\u001b[38;5;28;01mTrue\u001b[39;00m, fmt\u001b[38;5;241m=\u001b[39m\u001b[38;5;124m\"\u001b[39m\u001b[38;5;124m.2f\u001b[39m\u001b[38;5;124m\"\u001b[39m, cmap\u001b[38;5;241m=\u001b[39m\u001b[38;5;124m'\u001b[39m\u001b[38;5;124mcoolwarm\u001b[39m\u001b[38;5;124m'\u001b[39m, square\u001b[38;5;241m=\u001b[39m\u001b[38;5;28;01mTrue\u001b[39;00m, cbar_kws\u001b[38;5;241m=\u001b[39m{\u001b[38;5;124m\"\u001b[39m\u001b[38;5;124mshrink\u001b[39m\u001b[38;5;124m\"\u001b[39m: \u001b[38;5;241m.8\u001b[39m})\n\u001b[0;32m      4\u001b[0m plt\u001b[38;5;241m.\u001b[39mtitle(\u001b[38;5;124m'\u001b[39m\u001b[38;5;124mCorrelation Matrix\u001b[39m\u001b[38;5;124m'\u001b[39m)\n\u001b[0;32m      5\u001b[0m plt\u001b[38;5;241m.\u001b[39mshow()\n",
      "\u001b[1;31mNameError\u001b[0m: name 'correlation_matrix' is not defined"
     ]
    },
    {
     "data": {
      "text/plain": [
       "<Figure size 1200x800 with 0 Axes>"
      ]
     },
     "metadata": {},
     "output_type": "display_data"
    }
   ],
   "source": [
    "# Correlation matrix heatmap\n",
    "plt.figure(figsize=(12, 8))\n",
    "sns.heatmap(correlation_matrix, annot=True, fmt=\".2f\", cmap='coolwarm', square=True, cbar_kws={\"shrink\": .8})\n",
    "plt.title('Correlation Matrix')\n",
    "plt.show()"
   ]
  },
  {
   "cell_type": "code",
   "execution_count": 42,
   "id": "ff0f4f41-7275-417f-bd51-29edf1f31d7d",
   "metadata": {},
   "outputs": [],
   "source": [
    "# Understand relationships between target and predictors\n",
    "# Assuming 'target' is the name of your target variable\n",
    "target_variable = 'target'  # Replace with your actual target variable name"
   ]
  },
  {
   "cell_type": "code",
   "execution_count": 44,
   "id": "f0e67b4a-ddf6-4312-a19f-ad7aa6ea25de",
   "metadata": {},
   "outputs": [
    {
     "ename": "NameError",
     "evalue": "name 'data' is not defined",
     "output_type": "error",
     "traceback": [
      "\u001b[1;31m---------------------------------------------------------------------------\u001b[0m",
      "\u001b[1;31mNameError\u001b[0m                                 Traceback (most recent call last)",
      "Cell \u001b[1;32mIn[44], line 2\u001b[0m\n\u001b[0;32m      1\u001b[0m \u001b[38;5;66;03m# Pairplot to visualize relationships\u001b[39;00m\n\u001b[1;32m----> 2\u001b[0m sns\u001b[38;5;241m.\u001b[39mpairplot(data, hue\u001b[38;5;241m=\u001b[39mtarget_variable)\n\u001b[0;32m      3\u001b[0m plt\u001b[38;5;241m.\u001b[39mtitle(\u001b[38;5;124m'\u001b[39m\u001b[38;5;124mPairplot of Features with Target Variable\u001b[39m\u001b[38;5;124m'\u001b[39m)\n\u001b[0;32m      4\u001b[0m plt\u001b[38;5;241m.\u001b[39mshow()\n",
      "\u001b[1;31mNameError\u001b[0m: name 'data' is not defined"
     ]
    }
   ],
   "source": [
    "# Pairplot to visualize relationships\n",
    "sns.pairplot(data, hue=target_variable)\n",
    "plt.title('Pairplot of Features with Target Variable')\n",
    "plt.show()"
   ]
  },
  {
   "cell_type": "code",
   "execution_count": 15,
   "id": "544bd5bd-4916-4379-800e-4982df55d814",
   "metadata": {},
   "outputs": [
    {
     "ename": "NameError",
     "evalue": "name 'data' is not defined",
     "output_type": "error",
     "traceback": [
      "\u001b[1;31m---------------------------------------------------------------------------\u001b[0m",
      "\u001b[1;31mNameError\u001b[0m                                 Traceback (most recent call last)",
      "Cell \u001b[1;32mIn[15], line 2\u001b[0m\n\u001b[0;32m      1\u001b[0m \u001b[38;5;66;03m# Check for class imbalance\u001b[39;00m\n\u001b[1;32m----> 2\u001b[0m \u001b[38;5;28;01mif\u001b[39;00m data[target_variable]\u001b[38;5;241m.\u001b[39mdtype \u001b[38;5;241m==\u001b[39m \u001b[38;5;124m'\u001b[39m\u001b[38;5;124mobject\u001b[39m\u001b[38;5;124m'\u001b[39m \u001b[38;5;129;01mor\u001b[39;00m data[target_variable]\u001b[38;5;241m.\u001b[39mnunique() \u001b[38;5;241m<\u001b[39m \u001b[38;5;241m10\u001b[39m:\n\u001b[0;32m      3\u001b[0m     plt\u001b[38;5;241m.\u001b[39mfigure(figsize\u001b[38;5;241m=\u001b[39m(\u001b[38;5;241m8\u001b[39m, \u001b[38;5;241m6\u001b[39m))\n\u001b[0;32m      4\u001b[0m     sns\u001b[38;5;241m.\u001b[39mcountplot(x\u001b[38;5;241m=\u001b[39mtarget_variable, data\u001b[38;5;241m=\u001b[39mdata)\n",
      "\u001b[1;31mNameError\u001b[0m: name 'data' is not defined"
     ]
    }
   ],
   "source": [
    "# Check for class imbalance\n",
    "if data[target_variable].dtype == 'object' or data[target_variable].nunique() < 10:\n",
    "    plt.figure(figsize=(8, 6))\n",
    "    sns.countplot(x=target_variable, data=data)\n",
    "    plt.title('Class Distribution')\n",
    "    plt.xlabel(target_variable)\n",
    "    plt.ylabel('Count')\n",
    "    plt.show()\n",
    "else:\n",
    "    print(\"Target variable is not categorical or has too many unique values to visualize class distribution.\")"
   ]
  },
  {
   "cell_type": "code",
   "execution_count": 54,
   "id": "f3b095ae-e8d5-4dc1-9d89-b9651877114a",
   "metadata": {},
   "outputs": [],
   "source": [
    "# Logistic Regression – good for interpretability\n",
    "# Strip any whitespace from column names\n",
    "df.rename(columns=lambda x: x.strip(), inplace=True)"
   ]
  },
  {
   "cell_type": "code",
   "execution_count": 56,
   "id": "85b4c125-1db8-4550-a71d-7d8456ad1718",
   "metadata": {},
   "outputs": [],
   "source": [
    "# Drop the 'Patient_ID' column if it exists\n",
    "df.drop([\"Patient_ID\"], axis=1, inplace=True, errors=\"ignore\")"
   ]
  },
  {
   "cell_type": "code",
   "execution_count": 58,
   "id": "1aa3bcb3-7795-42ef-8acb-4aef023648b3",
   "metadata": {},
   "outputs": [
    {
     "name": "stdout",
     "output_type": "stream",
     "text": [
      "Columns after dropping 'Patient_ID':\n",
      "Index(['Age', 'Gender', 'Diabetes', 'Hypertension', 'Obesity', 'Smoking',\n",
      "       'Alcohol_Consumption', 'Physical_Activity', 'Diet_Score',\n",
      "       'Cholesterol_Level', 'Triglyceride_Level', 'LDL_Level', 'HDL_Level',\n",
      "       'Systolic_BP', 'Diastolic_BP', 'Air_Pollution_Exposure',\n",
      "       'Family_History', 'Stress_Level', 'Healthcare_Access',\n",
      "       'Heart_Attack_History', 'Emergency_Response_Time', 'Annual_Income',\n",
      "       'Health_Insurance', 'Heart_Attack_Risk', 'State_Name_Arunachal Pradesh',\n",
      "       'State_Name_Assam', 'State_Name_Bihar', 'State_Name_Chhattisgarh',\n",
      "       'State_Name_Goa', 'State_Name_Gujarat', 'State_Name_Haryana',\n",
      "       'State_Name_Himachal Pradesh', 'State_Name_Jharkhand',\n",
      "       'State_Name_Karnataka', 'State_Name_Kerala',\n",
      "       'State_Name_Madhya Pradesh', 'State_Name_Maharashtra',\n",
      "       'State_Name_Manipur', 'State_Name_Meghalaya', 'State_Name_Mizoram',\n",
      "       'State_Name_Nagaland', 'State_Name_Odisha', 'State_Name_Punjab',\n",
      "       'State_Name_Rajasthan', 'State_Name_Sikkim', 'State_Name_Tamil Nadu',\n",
      "       'State_Name_Telangana', 'State_Name_Tripura',\n",
      "       'State_Name_Uttar Pradesh', 'State_Name_Uttarakhand',\n",
      "       'State_Name_West Bengal'],\n",
      "      dtype='object')\n"
     ]
    }
   ],
   "source": [
    "# Print column names after dropping\n",
    "print(\"Columns after dropping 'Patient_ID':\")\n",
    "print(df.columns)"
   ]
  },
  {
   "cell_type": "code",
   "execution_count": 60,
   "id": "5cf9a76e-7c30-4062-81c3-b04c1393b81d",
   "metadata": {},
   "outputs": [],
   "source": [
    "# Split features and target\n",
    "X = df.drop(\"Heart_Attack_Risk\", axis=1)\n",
    "y = df[\"Heart_Attack_Risk\"]"
   ]
  },
  {
   "cell_type": "code",
   "execution_count": 62,
   "id": "f84a2b4c-3982-4860-8444-13d0b284f86b",
   "metadata": {},
   "outputs": [],
   "source": [
    "# Step 5: Train-Test Split\n",
    "X_train, X_test, y_train, y_test = train_test_split(X, y, test_size=0.2, random_state=42)"
   ]
  },
  {
   "cell_type": "code",
   "execution_count": 64,
   "id": "a0a25510-ee67-4106-8ef7-76ea20756561",
   "metadata": {},
   "outputs": [],
   "source": [
    "# Step 6: Feature Scaling\n",
    "scaler = StandardScaler()\n",
    "X_train_scaled = scaler.fit_transform(X_train)\n",
    "X_test_scaled = scaler.transform(X_test)"
   ]
  },
  {
   "cell_type": "code",
   "execution_count": 66,
   "id": "6613448d-95d5-40d6-bced-9e4ce158747d",
   "metadata": {},
   "outputs": [],
   "source": [
    "# Step 1: One-hot encode categorical columns\n",
    "df = pd.get_dummies(df, drop_first=True)"
   ]
  },
  {
   "cell_type": "code",
   "execution_count": 68,
   "id": "afb12c03-bf82-4fce-bfb2-fc9b3c43bed1",
   "metadata": {},
   "outputs": [],
   "source": [
    "# Step 2: Split features and target\n",
    "X = df.drop(\"Heart_Attack_Risk\", axis=1)\n",
    "y = df[\"Heart_Attack_Risk\"]"
   ]
  },
  {
   "cell_type": "code",
   "execution_count": 70,
   "id": "9cf79174-46af-478c-9ba6-8aa1365d5068",
   "metadata": {},
   "outputs": [],
   "source": [
    "# Step 3: Train-Test Split\n",
    "X_train, X_test, y_train, y_test = train_test_split(X, y, test_size=0.2, random_state=42)"
   ]
  },
  {
   "cell_type": "code",
   "execution_count": 72,
   "id": "32dc678d-6543-4dd6-a659-7b38c6bf2d80",
   "metadata": {},
   "outputs": [],
   "source": [
    "# Step 4: Feature Scaling\n",
    "scaler = StandardScaler()\n",
    "X_train_scaled = scaler.fit_transform(X_train)\n",
    "X_test_scaled = scaler.transform(X_test)"
   ]
  },
  {
   "cell_type": "code",
   "execution_count": 5,
   "id": "009f9f49-5426-4194-95fd-c7a7cdebc851",
   "metadata": {},
   "outputs": [],
   "source": [
    "# # Step 5: Train the Model (Logistic Regression)\n",
    "# model = LogisticRegression()\n",
    "# model.fit(X_train_scaled, y_train)"
   ]
  },
  {
   "cell_type": "code",
   "execution_count": 3,
   "id": "1041691f-d73a-4a4b-9f86-e40450dc5e30",
   "metadata": {},
   "outputs": [],
   "source": [
    "# # Step 6: Make Predictions on Test Data\n",
    "# y_pred = model.predict(X_test_scaled)"
   ]
  },
  {
   "cell_type": "code",
   "execution_count": 1,
   "id": "61333ef6-fad4-4c86-ba33-687a9b192d0a",
   "metadata": {},
   "outputs": [],
   "source": [
    "# # 1. Accuracy Score\n",
    "# accuracy = accuracy_score(y_test, y_pred)\n",
    "# print(f\"Test Accuracy: {accuracy:.2f}\")"
   ]
  },
  {
   "cell_type": "code",
   "execution_count": null,
   "id": "57959d13-ca5d-4e2a-a4a6-42aa273f0b4e",
   "metadata": {},
   "outputs": [],
   "source": []
  }
 ],
 "metadata": {
  "kernelspec": {
   "display_name": "Python [conda env:base] *",
   "language": "python",
   "name": "conda-base-py"
  },
  "language_info": {
   "codemirror_mode": {
    "name": "ipython",
    "version": 3
   },
   "file_extension": ".py",
   "mimetype": "text/x-python",
   "name": "python",
   "nbconvert_exporter": "python",
   "pygments_lexer": "ipython3",
   "version": "3.12.7"
  }
 },
 "nbformat": 4,
 "nbformat_minor": 5
}
